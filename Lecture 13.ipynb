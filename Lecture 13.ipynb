{
 "cells": [
  {
   "cell_type": "markdown",
   "metadata": {},
   "source": [
    "## Lecture 13. object detection\n",
    "- Haar Cascade  \n",
    "https://bkshin.tistory.com/entry/%EB%85%BC%EB%AC%B8-%EB%A6%AC%EB%B7%B0-%EC%BA%90%EC%8A%A4%EC%BC%80%EC%9D%B4%EB%93%9C-%EA%B2%80%EC%B6%9C%EA%B8%B0-Cascade-Detector-%ED%86%BA%EC%95%84%EB%B3%B4%EA%B8%B0\n",
    "  \n",
    "exist object : positive  \n",
    "not : negative  \n",
    "\n",
    "```python\n",
    "cv2.CascadeClassfier(XML FILE)  \n",
    "detectMultiScale(image, scaleFactor, minNeighbors, flags, minSize, maxSize)\n",
    "```\n",
    "\n",
    "detectMultiScale의 반환값 : (x, y, width, height)  \n",
    "\n",
    "---------"
   ]
  },
  {
   "cell_type": "markdown",
   "metadata": {},
   "source": [
    "### detect face in image"
   ]
  },
  {
   "cell_type": "code",
   "execution_count": 6,
   "metadata": {},
   "outputs": [
    {
     "name": "stdout",
     "output_type": "stream",
     "text": [
      "212 44 55 55\n",
      "331 57 48 48\n",
      "98 140 57 57\n",
      "450 144 66 66\n"
     ]
    },
    {
     "data": {
      "text/plain": [
       "-1"
      ]
     },
     "execution_count": 6,
     "metadata": {},
     "output_type": "execute_result"
    }
   ],
   "source": [
    "import cv2\n",
    "\n",
    "face_cascade = cv2.CascadeClassifier('haarcascade_frontalface_default.xml')\n",
    "\n",
    "img = cv2.imread('people.jpg')\n",
    "gray = cv2.cvtColor(img, cv2.COLOR_BGR2GRAY)\n",
    "\n",
    "faces = face_cascade.detectMultiScale(gray, 1.1, 5)\n",
    "# 두 인자를 적절히 넣는 것이 중요\n",
    "# return [[x, y, w, h], [...], ...]\n",
    "\n",
    "for (x, y, w, h) in faces :\n",
    "    print (x, y, w, h)\n",
    "    cv2.rectangle(img, (x, y), (x + w, y + h), (0, 255, 0), 2)\n",
    "    \n",
    "cv2.imshow('img', img)\n",
    "cv2.waitKey()\n",
    "\n",
    "# mac에서 opencv 팝업창 안닫힐때 뒤에 항상 붙여주기\n",
    "cv2.destroyAllWindows()\n",
    "cv2.waitKey(1)\n",
    "cv2.waitKey(1)\n",
    "cv2.waitKey(1)\n",
    "cv2.waitKey(1)"
   ]
  },
  {
   "cell_type": "markdown",
   "metadata": {},
   "source": [
    "### detect face in video"
   ]
  },
  {
   "cell_type": "code",
   "execution_count": 7,
   "metadata": {},
   "outputs": [
    {
     "name": "stderr",
     "output_type": "stream",
     "text": [
      "2023-11-26 22:50:32.312 Python[76246:6205247] WARNING: AVCaptureDeviceTypeExternal is deprecated for Continuity Cameras. Please use AVCaptureDeviceTypeContinuityCamera and add NSCameraUseContinuityCameraDeviceType to your Info.plist.\n"
     ]
    },
    {
     "name": "stdout",
     "output_type": "stream",
     "text": [
      "사용자 입력에 의해 종료\n"
     ]
    },
    {
     "data": {
      "text/plain": [
       "-1"
      ]
     },
     "execution_count": 7,
     "metadata": {},
     "output_type": "execute_result"
    }
   ],
   "source": [
    "import cv2\n",
    "\n",
    "face_cascade = cv2.CascadeClassifier('haarcascade_frontalface_default.xml')\n",
    "\n",
    "cap = cv2.VideoCapture(0)\n",
    "\n",
    "while (cap.isOpened()) :\n",
    "    ret, frame = cap.read() \n",
    "    # ret : 영상이 정상적인지 여부 출력 (정상이면 True, 비정상이면 False)\n",
    "    \n",
    "    gray = cv2.cvtColor(frame, cv2.COLOR_BGR2GRAY)\n",
    "    \n",
    "    faces = face_cascade.detectMultiScale(gray, 1.1, 5)\n",
    "    # 두 인자를 적절히 넣는 것이 중요\n",
    "    # return [[x, y, w, h], [...], ...]\n",
    "\n",
    "    for (x, y, w, h) in faces :\n",
    "        cv2.rectangle(frame, (x, y), (x + w, y + h), (0, 255, 0), 2)\n",
    "\n",
    "    if ret : \n",
    "        cv2.imshow ('camera', frame)\n",
    "        \n",
    "        if cv2.waitKey(1) == ord('q') :  # waitkey(n) : n으로 속도 조절\n",
    "            print('사용자 입력에 의해 종료')\n",
    "            break\n",
    "    \n",
    "    else :\n",
    "        break\n",
    "\n",
    "cap.release() # 동영상 파일 닫고 메모리 해제\n",
    "\n",
    "# mac에서 opencv 팝업창 안닫힐때 뒤에 항상 붙여주기\n",
    "cv2.destroyAllWindows()\n",
    "cv2.waitKey(1)\n",
    "cv2.waitKey(1)\n",
    "cv2.waitKey(1)\n",
    "cv2.waitKey(1)"
   ]
  }
 ],
 "metadata": {
  "kernelspec": {
   "display_name": "Python 3",
   "language": "python",
   "name": "python3"
  },
  "language_info": {
   "codemirror_mode": {
    "name": "ipython",
    "version": 3
   },
   "file_extension": ".py",
   "mimetype": "text/x-python",
   "name": "python",
   "nbconvert_exporter": "python",
   "pygments_lexer": "ipython3",
   "version": "3.11.6"
  }
 },
 "nbformat": 4,
 "nbformat_minor": 2
}
