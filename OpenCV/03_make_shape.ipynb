{
 "cells": [
  {
   "cell_type": "markdown",
   "id": "9ce2b18d",
   "metadata": {},
   "source": [
    "## 3. 도형 그리기"
   ]
  },
  {
   "cell_type": "markdown",
   "id": "f0017dbb",
   "metadata": {},
   "source": [
    "### 빈 스케치북 만들기"
   ]
  },
  {
   "cell_type": "code",
   "execution_count": 1,
   "id": "7bdca091",
   "metadata": {},
   "outputs": [
    {
     "name": "stdout",
     "output_type": "stream",
     "text": [
      "[[[255 255 255]\n",
      "  [255 255 255]\n",
      "  [255 255 255]\n",
      "  ...\n",
      "  [255 255 255]\n",
      "  [255 255 255]\n",
      "  [255 255 255]]\n",
      "\n",
      " [[255 255 255]\n",
      "  [255 255 255]\n",
      "  [255 255 255]\n",
      "  ...\n",
      "  [255 255 255]\n",
      "  [255 255 255]\n",
      "  [255 255 255]]\n",
      "\n",
      " [[255 255 255]\n",
      "  [255 255 255]\n",
      "  [255 255 255]\n",
      "  ...\n",
      "  [255 255 255]\n",
      "  [255 255 255]\n",
      "  [255 255 255]]\n",
      "\n",
      " ...\n",
      "\n",
      " [[255 255 255]\n",
      "  [255 255 255]\n",
      "  [255 255 255]\n",
      "  ...\n",
      "  [255 255 255]\n",
      "  [255 255 255]\n",
      "  [255 255 255]]\n",
      "\n",
      " [[255 255 255]\n",
      "  [255 255 255]\n",
      "  [255 255 255]\n",
      "  ...\n",
      "  [255 255 255]\n",
      "  [255 255 255]\n",
      "  [255 255 255]]\n",
      "\n",
      " [[255 255 255]\n",
      "  [255 255 255]\n",
      "  [255 255 255]\n",
      "  ...\n",
      "  [255 255 255]\n",
      "  [255 255 255]\n",
      "  [255 255 255]]]\n"
     ]
    },
    {
     "name": "stderr",
     "output_type": "stream",
     "text": [
      "2023-11-12 21:36:53.299 Python[81671:900454] WARNING: Secure coding is not enabled for restorable state! Enable secure coding by implementing NSApplicationDelegate.applicationSupportsSecureRestorableState: and returning YES.\n"
     ]
    },
    {
     "data": {
      "text/plain": [
       "-1"
      ]
     },
     "execution_count": 1,
     "metadata": {},
     "output_type": "execute_result"
    }
   ],
   "source": [
    "import cv2\n",
    "import numpy as np \n",
    "\n",
    "# 세로 480 x 가로 640, 3channel에 해당되는 스케치북 만들기 \n",
    "sketchbook = np.zeros((480, 640, 3), dtype = np.uint8)\n",
    "'''sketchbook[:] = (255, 255, 255) # 전체 공간을 흰 색으로 채우기 (BGR)\n",
    "print (sketchbook)'''\n",
    "\n",
    "cv2.imshow('sketchbook', sketchbook)\n",
    "cv2.waitKey(0)\n",
    "cv2.destroyAllWindows()\n",
    "\n",
    "# mac에서 opencv 팝업창 안닫힐때 뒤에 항상 붙여주기\n",
    "cv2.destroyAllWindows()\n",
    "cv2.waitKey(1)\n",
    "cv2.waitKey(1)\n",
    "cv2.waitKey(1)\n",
    "cv2.waitKey(1)"
   ]
  },
  {
   "cell_type": "markdown",
   "id": "456c6b60",
   "metadata": {},
   "source": [
    "### 일부 영역 색칠"
   ]
  },
  {
   "cell_type": "code",
   "execution_count": 4,
   "id": "341052aa",
   "metadata": {},
   "outputs": [
    {
     "data": {
      "text/plain": [
       "-1"
      ]
     },
     "execution_count": 4,
     "metadata": {},
     "output_type": "execute_result"
    }
   ],
   "source": [
    "import cv2\n",
    "import numpy as np \n",
    "\n",
    "sketchbook = np.zeros((480, 640, 3), dtype = np.uint8)\n",
    "sketchbook[100:200, 200:300] = (255, 255, 255) \n",
    "# 세로 기준으로 100에서 200까지, 가로 기준으로 200에서 300까지 흰색으로 칠함\n",
    "\n",
    "cv2.imshow('sketchbook', sketchbook)\n",
    "cv2.waitKey(0)\n",
    "cv2.destroyAllWindows()\n",
    "\n",
    "# mac에서 opencv 팝업창 안닫힐때 뒤에 항상 붙여주기\n",
    "cv2.destroyAllWindows()\n",
    "cv2.waitKey(1)\n",
    "cv2.waitKey(1)\n",
    "cv2.waitKey(1)\n",
    "cv2.waitKey(1)"
   ]
  },
  {
   "cell_type": "markdown",
   "id": "16efc04b",
   "metadata": {},
   "source": [
    "### 직선\n",
    "직선의 종류\n",
    "1. cv2.LINE_4 : 상하좌우 4방향으로 연결된 선\n",
    "2. cv2.LINE_8 : 대각선을 포함한 8방향으로 연결된 선 (기본값)\n",
    "3. cv2.LINE_AA : 부드러운 선 (anti-aliasing)"
   ]
  },
  {
   "cell_type": "code",
   "execution_count": 8,
   "id": "c305f8e2",
   "metadata": {},
   "outputs": [
    {
     "data": {
      "text/plain": [
       "-1"
      ]
     },
     "execution_count": 8,
     "metadata": {},
     "output_type": "execute_result"
    }
   ],
   "source": [
    "import cv2\n",
    "import numpy as np \n",
    "\n",
    "sketchbook = np.zeros((480, 640, 3), dtype = np.uint8)\n",
    "\n",
    "COLOR = (0, 255, 255) # BGR : 노란색\n",
    "THICKNESS = 3 # 두께\n",
    "\n",
    "cv2.line (sketchbook, (50, 100), (400, 50), COLOR, THICKNESS, cv2.LINE_8)\n",
    "cv2.line (sketchbook, (50, 200), (400, 50), COLOR, THICKNESS, cv2.LINE_4)\n",
    "cv2.line (sketchbook, (50, 300), (400, 50), COLOR, THICKNESS, cv2.LINE_AA)\n",
    "# 어디에, 시작점, 끝점, 색깔, 두께, 선 종류\n",
    "\n",
    "cv2.imshow ('img', sketchbook)\n",
    "cv2.waitKey(0)\n",
    "cv2.destroyAllWindows()\n",
    "\n",
    "# mac에서 opencv 팝업창 안닫힐때 뒤에 항상 붙여주기\n",
    "cv2.destroyAllWindows()\n",
    "cv2.waitKey(1)\n",
    "cv2.waitKey(1)\n",
    "cv2.waitKey(1)\n",
    "cv2.waitKey(1)"
   ]
  },
  {
   "cell_type": "markdown",
   "id": "6345d714",
   "metadata": {},
   "source": [
    "### 원"
   ]
  },
  {
   "cell_type": "code",
   "execution_count": 18,
   "id": "eacb07e7",
   "metadata": {},
   "outputs": [
    {
     "data": {
      "text/plain": [
       "-1"
      ]
     },
     "execution_count": 18,
     "metadata": {},
     "output_type": "execute_result"
    }
   ],
   "source": [
    "import cv2\n",
    "import numpy as np \n",
    "\n",
    "sketchbook = np.zeros((480, 640, 3), dtype = np.uint8)\n",
    "\n",
    "COLOR = (255, 0, 0) # BGR : 파란색\n",
    "RADIUS = 50 # 반지름\n",
    "THICKNESS = 10 # 두께\n",
    "\n",
    "cv2.circle(sketchbook, (200, 100), RADIUS, COLOR, THICKNESS, cv2.LINE_AA)\n",
    "# 어디에, 원 중심점, 반지름, 색, 두께, 선 종류\n",
    "cv2.circle(sketchbook, (400, 100), RADIUS, COLOR, cv2.FILLED, cv2.LINE_AA)\n",
    "# thickness 부분을 filled or -1 = 속이 꽉 찬 원\n",
    "\n",
    "cv2.imshow ('img', sketchbook)\n",
    "cv2.waitKey(0)\n",
    "cv2.destroyAllWindows()\n",
    "\n",
    "# mac에서 opencv 팝업창 안닫힐때 뒤에 항상 붙여주기\n",
    "cv2.destroyAllWindows()\n",
    "cv2.waitKey(1)\n",
    "cv2.waitKey(1)\n",
    "cv2.waitKey(1)\n",
    "cv2.waitKey(1)"
   ]
  },
  {
   "cell_type": "markdown",
   "id": "f0b14b19",
   "metadata": {},
   "source": [
    "### 사각형"
   ]
  },
  {
   "cell_type": "code",
   "execution_count": 27,
   "id": "f6269bcb",
   "metadata": {},
   "outputs": [
    {
     "data": {
      "text/plain": [
       "-1"
      ]
     },
     "execution_count": 27,
     "metadata": {},
     "output_type": "execute_result"
    }
   ],
   "source": [
    "import cv2\n",
    "import numpy as np \n",
    "\n",
    "sketchbook = np.zeros((480, 640, 3), dtype = np.uint8)\n",
    "\n",
    "COLOR = (90, 90, 180) # BGR : 핑크색\n",
    "THICKNESS = 5 # 두께\n",
    "\n",
    "cv2.rectangle (sketchbook, (100, 100), (200, 200), COLOR, THICKNESS, cv2.LINE_AA)\n",
    "# 어디에, 왼쪽 위 꼭짓점, 오른쪽 아래 꼭짓점, 색, 두께, 선 종류 \n",
    "cv2.rectangle (sketchbook, (300, 100), (400, 200), COLOR, cv2.FILLED, cv2.LINE_AA)\n",
    "# thickness 부분을 filled or -1 = 속이 꽉 찬 사각형\n",
    "\n",
    "cv2.imshow ('img', sketchbook)\n",
    "cv2.waitKey(0)\n",
    "cv2.destroyAllWindows()\n",
    "\n",
    "# mac에서 opencv 팝업창 안닫힐때 뒤에 항상 붙여주기\n",
    "cv2.destroyAllWindows()\n",
    "cv2.waitKey(1)\n",
    "cv2.waitKey(1)\n",
    "cv2.waitKey(1)\n",
    "cv2.waitKey(1)"
   ]
  },
  {
   "cell_type": "markdown",
   "id": "f64bcae7",
   "metadata": {},
   "source": [
    "### 다각형"
   ]
  },
  {
   "cell_type": "code",
   "execution_count": 9,
   "id": "9b4010ec",
   "metadata": {},
   "outputs": [
    {
     "data": {
      "text/plain": [
       "-1"
      ]
     },
     "execution_count": 9,
     "metadata": {},
     "output_type": "execute_result"
    }
   ],
   "source": [
    "import cv2\n",
    "import numpy as np \n",
    "\n",
    "sketchbook = np.zeros((480, 640, 3), dtype = np.uint8)\n",
    "\n",
    "COLOR = (255, 10, 150) # BGR : 보라색\n",
    "THICKNESS = 5 # 두께\n",
    "\n",
    "# 다각형은 각각의 꼭짓점 좌표를 정해줘야 함\n",
    "pts1 = np.array ([[100, 100], [200, 100], [100, 200]]) # 삼각형\n",
    "cv2.polylines(sketchbook, [pts1], True, COLOR, THICKNESS, cv2.LINE_AA)\n",
    "# 어디에, [좌표], 열림여부, 색, 두께, 선\n",
    "# 열림여부 - True : 닫힘, False : 열림\n",
    "\n",
    "pts2 = np.array ([[200, 100], [300, 100], [300, 200]])\n",
    "cv2.polylines(sketchbook, [pts2], True, COLOR, THICKNESS, cv2.LINE_AA)\n",
    "\n",
    "pts3 = np.array ([[400, 400], [400, 500], [500, 500], [500, 400]])\n",
    "pts4 = np.array ([[300, 300], [300, 340], [340, 340], [340, 300]])\n",
    "cv2.polylines (sketchbook, [pts3, pts4], True, COLOR, THICKNESS, cv2.LINE_AA)\n",
    "# 한꺼번에 그릴 수도 있음\n",
    "\n",
    "cv2.imshow ('img', sketchbook)\n",
    "cv2.waitKey(0)\n",
    "cv2.destroyAllWindows()\n",
    "\n",
    "# mac에서 opencv 팝업창 안닫힐때 뒤에 항상 붙여주기\n",
    "cv2.destroyAllWindows()\n",
    "cv2.waitKey(1)\n",
    "cv2.waitKey(1)\n",
    "cv2.waitKey(1)\n",
    "cv2.waitKey(1)"
   ]
  }
 ],
 "metadata": {
  "kernelspec": {
   "display_name": "Python 3 (ipykernel)",
   "language": "python",
   "name": "python3"
  },
  "language_info": {
   "codemirror_mode": {
    "name": "ipython",
    "version": 3
   },
   "file_extension": ".py",
   "mimetype": "text/x-python",
   "name": "python",
   "nbconvert_exporter": "python",
   "pygments_lexer": "ipython3",
   "version": "3.11.4"
  }
 },
 "nbformat": 4,
 "nbformat_minor": 5
}
