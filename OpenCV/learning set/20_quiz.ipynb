{
 "cells": [
  {
   "cell_type": "markdown",
   "metadata": {},
   "source": [
    "## 20. 퀴즈"
   ]
  },
  {
   "cell_type": "markdown",
   "metadata": {},
   "source": [
    "### OpenCV를 이용하여 가로로 촬영된 영상을 세로로 회전하는 프로그램을 작성하시오. "
   ]
  },
  {
   "cell_type": "code",
   "execution_count": 1,
   "metadata": {},
   "outputs": [
    {
     "name": "stderr",
     "output_type": "stream",
     "text": [
      "2023-11-20 16:23:58.915 Python[1389:3002073] WARNING: Secure coding is not enabled for restorable state! Enable secure coding by implementing NSApplicationDelegate.applicationSupportsSecureRestorableState: and returning YES.\n"
     ]
    },
    {
     "name": "stdout",
     "output_type": "stream",
     "text": [
      "더 이상 가져올 프레임 없음\n"
     ]
    },
    {
     "data": {
      "text/plain": [
       "\"\\nimport cv2\\nimg = cv2.imread('img.jpg')\\n\\nrotate_90_c = cv2.rotate(img, cv2.ROTATE_90_COUNTERCLOCKWISE)\\n# 시계반대방향으로 90도 회전\\n\\ncv2.imshow('img', img)\\ncv2.imshow('rotate_90_c', rotate_90_c)\\n\\ncv2.waitKey(0)\\n\\ncv2.destroyAllWindows()\\ncv2.waitKey(1)\\ncv2.waitKey(1)\\ncv2.waitKey(1)\\ncv2.waitKey(1)\""
      ]
     },
     "execution_count": 1,
     "metadata": {},
     "output_type": "execute_result"
    }
   ],
   "source": [
    "import cv2\n",
    "\n",
    "cap = cv2.VideoCapture('video.mp4')\n",
    "\n",
    "# 코덱 정의\n",
    "fourcc = cv2.VideoWriter_fourcc(*'DIVX')\n",
    "\n",
    "# 영상의 가로, 세로, fps 받아오기\n",
    "width = round(cap.get(cv2.CAP_PROP_FRAME_WIDTH))\n",
    "height = round(cap.get(cv2.CAP_PROP_FRAME_HEIGHT))\n",
    "fps = cap.get(cv2.CAP_PROP_FPS)\n",
    "\n",
    "out = cv2.VideoWriter('output.avi', fourcc, fps, (width, height))\n",
    "# 저장 파일명, 코덱, FPS, (width, height)\n",
    "\n",
    "while cap.isOpened():  # 동영상 파일이 올바로 열렸는가?\n",
    "    ret, frame = cap.read()  # ret : 성공 여부, frame : 동영상으로부터 받아온 프레임\n",
    "\n",
    "    if not ret:\n",
    "        print('더 이상 가져올 프레임 없음')\n",
    "        break\n",
    "\n",
    "    showing = cv2.rotate(frame, cv2.ROTATE_90_COUNTERCLOCKWISE)\n",
    "    cv2.imshow('video_that_rotated', showing)\n",
    "    out.write(showing)\n",
    "\n",
    "    if cv2.waitKey(1) == ord('q'):  # waitkey(n) : n으로 속도 조절\n",
    "        print('사용자 입력에 의해 종료')\n",
    "        break\n",
    "        \n",
    "cap.release() # 동영상 파일 닫고 메모리 해제\n",
    "\n",
    "cv2.waitKey(0)\n",
    "cv2.destroyAllWindows()\n",
    "cv2.waitKey(1)\n",
    "cv2.waitKey(1)\n",
    "cv2.waitKey(1)\n",
    "cv2.waitKey(1)\n",
    "\n",
    "'''\n",
    "import cv2\n",
    "img = cv2.imread('img.jpg')\n",
    "\n",
    "rotate_90_c = cv2.rotate(img, cv2.ROTATE_90_COUNTERCLOCKWISE)\n",
    "# 시계반대방향으로 90도 회전\n",
    "\n",
    "cv2.imshow('img', img)\n",
    "cv2.imshow('rotate_90_c', rotate_90_c)\n",
    "\n",
    "cv2.waitKey(0)\n",
    "\n",
    "cv2.destroyAllWindows()\n",
    "cv2.waitKey(1)\n",
    "cv2.waitKey(1)\n",
    "cv2.waitKey(1)\n",
    "cv2.waitKey(1)'''"
   ]
  },
  {
   "cell_type": "code",
   "execution_count": null,
   "metadata": {},
   "outputs": [],
   "source": []
  }
 ],
 "metadata": {
  "kernelspec": {
   "display_name": "Python 3",
   "language": "python",
   "name": "python3"
  },
  "language_info": {
   "codemirror_mode": {
    "name": "ipython",
    "version": 3
   },
   "file_extension": ".py",
   "mimetype": "text/x-python",
   "name": "python",
   "nbconvert_exporter": "python",
   "pygments_lexer": "ipython3",
   "version": "3.11.6"
  }
 },
 "nbformat": 4,
 "nbformat_minor": 2
}
