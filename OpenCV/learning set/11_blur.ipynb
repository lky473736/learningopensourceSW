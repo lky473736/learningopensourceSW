{
 "cells": [
  {
   "cell_type": "markdown",
   "metadata": {},
   "source": [
    "## 11. 흐림"
   ]
  },
  {
   "cell_type": "markdown",
   "metadata": {},
   "source": [
    "### Gaussian Blur"
   ]
  },
  {
   "cell_type": "markdown",
   "metadata": {},
   "source": [
    "#### 커널 사이즈 변화에 따른 흐림"
   ]
  },
  {
   "cell_type": "code",
   "execution_count": 3,
   "metadata": {},
   "outputs": [
    {
     "data": {
      "text/plain": [
       "-1"
      ]
     },
     "execution_count": 3,
     "metadata": {},
     "output_type": "execute_result"
    }
   ],
   "source": [
    "import cv2\n",
    "img = cv2.imread ('img.jpg')\n",
    "\n",
    "# [3, 3], [5, 5], [7, 7] (숫자가 더 클 수록 흐림)\n",
    "# 어느 이미지를, 어떤 커널 사이즈로, sigma x값을 어떻게\n",
    "kernel_3 = cv2.GaussianBlur (img, (3, 3), 0)\n",
    "kernel_5 = cv2.GaussianBlur (img, (5, 5), 0)\n",
    "kernel_7 = cv2.GaussianBlur (img, (7, 7), 0)\n",
    "\n",
    "cv2.imshow('img', img)\n",
    "cv2.imshow('k3', kernel_3)\n",
    "cv2.imshow('k5', kernel_5)\n",
    "cv2.imshow('k7', kernel_7)\n",
    "\n",
    "cv2.waitKey(0)\n",
    "\n",
    "cv2.destroyAllWindows()\n",
    "cv2.waitKey(1)\n",
    "cv2.waitKey(1)\n",
    "cv2.waitKey(1)\n",
    "cv2.waitKey(1)"
   ]
  },
  {
   "cell_type": "markdown",
   "metadata": {},
   "source": [
    "#### 표준 편차 변화에 따른 흐림 (위보다 더 흐려짐)"
   ]
  },
  {
   "cell_type": "code",
   "execution_count": 4,
   "metadata": {},
   "outputs": [
    {
     "data": {
      "text/plain": [
       "-1"
      ]
     },
     "execution_count": 4,
     "metadata": {},
     "output_type": "execute_result"
    },
    {
     "ename": "",
     "evalue": "",
     "output_type": "error",
     "traceback": [
      "\u001b[1;31m현재 셀 또는 이전 셀에서 코드를 실행하는 동안 Kernel이 충돌했습니다. 셀의 코드를 검토하여 오류의 가능한 원인을 식별하세요. 자세한 내용을 보려면 <a href='https://aka.ms/vscodeJupyterKernelCrash'> 여기 </a> 를 클릭하세요. 자세한 내용은 Jupyter <a href='command:jupyter.viewOutput'>로그</a>를 참조하세요."
     ]
    }
   ],
   "source": [
    "import cv2\n",
    "img = cv2.imread ('img.jpg')\n",
    "\n",
    "# 1, 2, 3 (숫자가 클 수록 더 흐림)\n",
    "# 어느 이미지를, 어떤 커널 사이즈로, sigma x값을 어떻게\n",
    "sigma_1 = cv2.GaussianBlur (img, (0, 0), 1) # sigma x - gaussian kernel의 x방향의 표준편차\n",
    "sigma_2 = cv2.GaussianBlur (img, (0, 0), 2)\n",
    "sigma_3 = cv2.GaussianBlur (img, (0, 0), 3)\n",
    "\n",
    "cv2.imshow('img', img)\n",
    "cv2.imshow('sig1', sigma_1)\n",
    "cv2.imshow('sig2', sigma_2)\n",
    "cv2.imshow('sig3', sigma_3)\n",
    "\n",
    "cv2.waitKey(0)\n",
    "\n",
    "cv2.destroyAllWindows()\n",
    "cv2.waitKey(1)\n",
    "cv2.waitKey(1)\n",
    "cv2.waitKey(1)\n",
    "cv2.waitKey(1)"
   ]
  }
 ],
 "metadata": {
  "kernelspec": {
   "display_name": "base",
   "language": "python",
   "name": "python3"
  },
  "language_info": {
   "codemirror_mode": {
    "name": "ipython",
    "version": 3
   },
   "file_extension": ".py",
   "mimetype": "text/x-python",
   "name": "python",
   "nbconvert_exporter": "python",
   "pygments_lexer": "ipython3",
   "version": "3.11.5"
  }
 },
 "nbformat": 4,
 "nbformat_minor": 2
}
