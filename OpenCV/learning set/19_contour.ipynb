{
 "cells": [
  {
   "cell_type": "markdown",
   "metadata": {},
   "source": [
    "## 19. 윤곽선"
   ]
  },
  {
   "cell_type": "markdown",
   "metadata": {},
   "source": [
    "### 윤곽선 (contour : 경계선을 연결한 선)"
   ]
  },
  {
   "cell_type": "markdown",
   "metadata": {},
   "source": [
    "### 기본"
   ]
  },
  {
   "cell_type": "code",
   "execution_count": 3,
   "metadata": {},
   "outputs": [
    {
     "data": {
      "text/plain": [
       "-1"
      ]
     },
     "execution_count": 3,
     "metadata": {},
     "output_type": "execute_result"
    }
   ],
   "source": [
    "import cv2\n",
    "img = cv2.imread('card.png')\n",
    "targetimg = img.copy() # 이미지 사본\n",
    "\n",
    "# 윤곽선 처리를 위해선 이진화가 필요 (threshold 작업으로 전처리하기)\n",
    "gray = cv2.cvtColor (img, cv2.COLOR_BGR2GRAY)\n",
    "ret, otsu = cv2.threshold(gray, -1, 255, cv2.THRESH_BINARY | cv2.THRESH_OTSU)\n",
    "\n",
    "contours, hierarchy = cv2.findContours(otsu, cv2.RETR_LIST, cv2.CHAIN_APPROX_NONE) # 윤곽선 검출\n",
    "# 반환되는 값은 윤곽선 정보, 윤곽선 구조\n",
    "# 대상 이미지, 윤곽선 찾는 모드, 윤곽선 찾을 때 사용하는 근사치 방법 (method)\n",
    "\n",
    "COLOR = (0, 200, 0)\n",
    "cv2.drawContours(targetimg, contours, -1, COLOR, 2) # 윤곽선 그리기\n",
    "# 대상 이미지, 윤곽선 정보, index값 (-1이면 전체 윤곽선을 그림), 색깔, 윤곽선 두께\n",
    "\n",
    "cv2.imshow('card', img)\n",
    "cv2.imshow('gray', gray)\n",
    "cv2.imshow('otsu', otsu)\n",
    "cv2.imshow('contour', targetimg)\n",
    "cv2.waitKey(0)\n",
    "\n",
    "# mac에서 opencv 팝업창 안닫힐때 뒤에 항상 붙여주기\n",
    "cv2.destroyAllWindows()\n",
    "cv2.waitKey(1)\n",
    "cv2.waitKey(1)\n",
    "cv2.waitKey(1)\n",
    "cv2.waitKey(1)"
   ]
  },
  {
   "cell_type": "markdown",
   "metadata": {},
   "source": [
    "### 찾기 모드"
   ]
  },
  {
   "cell_type": "markdown",
   "metadata": {},
   "source": [
    "1. cv2.RETR_EXTERNAL : 가장 외곽의 윤곽선만 찾음\n",
    "2. cv2.RETR_LIST : 모든 윤곽선 찾음 (계층 정보 없음)\n",
    "3. cv2.RETR_TREE : 모든 윤곽선을 찾음 (계층 정보를 트리 구조로 생성)"
   ]
  },
  {
   "cell_type": "code",
   "execution_count": null,
   "metadata": {},
   "outputs": [],
   "source": [
    "import cv2\n",
    "img = cv2.imread('card.png')\n",
    "targetimg = img.copy() # 이미지 사본\n",
    "\n",
    "# 윤곽선 처리를 위해선 이진화가 필요 (threshold 작업으로 전처리하기)\n",
    "gray = cv2.cvtColor (img, cv2.COLOR_BGR2GRAY)\n",
    "ret, otsu = cv2.threshold(gray, -1, 255, cv2.THRESH_BINARY | cv2.THRESH_OTSU)\n",
    "\n",
    "contours, hierarchy = cv2.findContours(otsu, cv2.RETR_LIST, cv2.CHAIN_APPROX_NONE) # 윤곽선 검출\n",
    "# 반환되는 값은 윤곽선 정보, 윤곽선 구조\n",
    "# 대상 이미지, 윤곽선 찾는 모드, 윤곽선 찾을 때 사용하는 근사치 방법 (method)\n",
    "\n",
    "COLOR = (0, 200, 0)\n",
    "cv2.drawContours(targetimg, contours, -1, COLOR, 2) # 윤곽선 그리기\n",
    "# 대상 이미지, 윤곽선 정보, index값 (-1이면 전체 윤곽선을 그림), 색깔, 윤곽선 두께\n",
    "\n",
    "cv2.imshow('card', img)\n",
    "cv2.imshow('gray', gray)\n",
    "cv2.imshow('otsu', otsu)\n",
    "cv2.imshow('contour', targetimg)\n",
    "cv2.waitKey(0)\n",
    "\n",
    "# mac에서 opencv 팝업창 안닫힐때 뒤에 항상 붙여주기\n",
    "cv2.destroyAllWindows()\n",
    "cv2.waitKey(1)\n",
    "cv2.waitKey(1)\n",
    "cv2.waitKey(1)\n",
    "cv2.waitKey(1)"
   ]
  },
  {
   "cell_type": "markdown",
   "metadata": {},
   "source": [
    "### 경계 사각형\n",
    "윤곽선의 경계면을 둘러싸는 사각형\n",
    "> boundingRect()"
   ]
  },
  {
   "cell_type": "code",
   "execution_count": 4,
   "metadata": {},
   "outputs": [
    {
     "data": {
      "text/plain": [
       "-1"
      ]
     },
     "execution_count": 4,
     "metadata": {},
     "output_type": "execute_result"
    }
   ],
   "source": [
    "import cv2\n",
    "img = cv2.imread('card.png')\n",
    "targetimg = img.copy() # 이미지 사본\n",
    "\n",
    "# 윤곽선 처리를 위해선 이진화가 필요 (threshold 작업으로 전처리하기)\n",
    "gray = cv2.cvtColor (img, cv2.COLOR_BGR2GRAY)\n",
    "ret, otsu = cv2.threshold(gray, -1, 255, cv2.THRESH_BINARY | cv2.THRESH_OTSU)\n",
    "\n",
    "contours, hierarchy = cv2.findContours(otsu, cv2.RETR_LIST, cv2.CHAIN_APPROX_NONE) # 윤곽선 검출\n",
    "# 반환되는 값은 윤곽선 정보, 윤곽선 구조\n",
    "# 대상 이미지, 윤곽선 찾는 모드, 윤곽선 찾을 때 사용하는 근사치 방법 (method)\n",
    "\n",
    "COLOR = (0, 200, 0)\n",
    "\n",
    "for cnt in contours :\n",
    "    x, y, width, height = cv2.boundingRect(cnt)\n",
    "    cv2.rectangle(targetimg, (x, y), (x + width, y + height), COLOR, 2) # 왼쪽위, 오른쪽아래\n",
    "\n",
    "cv2.imshow('card', img)\n",
    "cv2.imshow('gray', gray)\n",
    "cv2.imshow('otsu', otsu)\n",
    "cv2.imshow('contour', targetimg)\n",
    "cv2.waitKey(0)\n",
    "\n",
    "# mac에서 opencv 팝업창 안닫힐때 뒤에 항상 붙여주기\n",
    "cv2.destroyAllWindows()\n",
    "cv2.waitKey(1)\n",
    "cv2.waitKey(1)\n",
    "cv2.waitKey(1)\n",
    "cv2.waitKey(1)"
   ]
  }
 ],
 "metadata": {
  "kernelspec": {
   "display_name": "Python 3",
   "language": "python",
   "name": "python3"
  },
  "language_info": {
   "codemirror_mode": {
    "name": "ipython",
    "version": 3
   },
   "file_extension": ".py",
   "mimetype": "text/x-python",
   "name": "python",
   "nbconvert_exporter": "python",
   "pygments_lexer": "ipython3",
   "version": "3.12.0"
  }
 },
 "nbformat": 4,
 "nbformat_minor": 2
}
