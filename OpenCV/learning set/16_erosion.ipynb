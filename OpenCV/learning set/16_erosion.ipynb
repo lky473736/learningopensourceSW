{
 "cells": [
  {
   "cell_type": "markdown",
   "metadata": {},
   "source": [
    "## 16. 이미지 침식"
   ]
  },
  {
   "cell_type": "markdown",
   "metadata": {},
   "source": [
    "이미지를 깎아서 노이즈 제거  \n",
    "흰색 영역의 외곽 픽셀을 검은색으로 점차 변경 (글씨가 줄어듬 & main 이외의 잡음 제거)"
   ]
  },
  {
   "cell_type": "code",
   "execution_count": 2,
   "metadata": {},
   "outputs": [
    {
     "data": {
      "text/plain": [
       "-1"
      ]
     },
     "execution_count": 2,
     "metadata": {},
     "output_type": "execute_result"
    }
   ],
   "source": [
    "import cv2\n",
    "import numpy as np\n",
    "\n",
    "kernel = np.ones((3, 3), dtype = np.uint8) # ones : identity matrix\n",
    "\n",
    "img = cv2.imread('erode.png', cv2.IMREAD_GRAYSCALE)\n",
    "erode1 = cv2.erode(img, kernel, iterations = 1) # 반복 횟수\n",
    "erode2 = cv2.erode(img, kernel, iterations = 2) # 반복 횟수\n",
    "erode3 = cv2.erode(img, kernel, iterations = 3) # 반복 횟수\n",
    "\n",
    "# iterations가 많아질수록 침식이 더 잘됨\n",
    "\n",
    "cv2.imshow('gray', img)\n",
    "cv2.imshow('e1', erode1)\n",
    "cv2.imshow('e2', erode2)\n",
    "cv2.imshow('e3', erode3)\n",
    "\n",
    "cv2.waitKey(0)\n",
    "\n",
    "# mac에서 opencv 팝업창 안닫힐때 뒤에 항상 붙여주기\n",
    "cv2.destroyAllWindows()\n",
    "cv2.waitKey(1)\n",
    "cv2.waitKey(1)\n",
    "cv2.waitKey(1)\n",
    "cv2.waitKey(1)"
   ]
  }
 ],
 "metadata": {
  "kernelspec": {
   "display_name": "Python 3",
   "language": "python",
   "name": "python3"
  },
  "language_info": {
   "codemirror_mode": {
    "name": "ipython",
    "version": 3
   },
   "file_extension": ".py",
   "mimetype": "text/x-python",
   "name": "python",
   "nbconvert_exporter": "python",
   "pygments_lexer": "ipython3",
   "version": "3.12.0"
  }
 },
 "nbformat": 4,
 "nbformat_minor": 2
}
