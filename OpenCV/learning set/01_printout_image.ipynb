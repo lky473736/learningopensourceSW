{
 "cells": [
  {
   "cell_type": "markdown",
   "id": "ff3d1de3",
   "metadata": {},
   "source": [
    "## learningOpenCV\n",
    "#### for teamplaying at the lecture \\<opensource software\\>\n",
    "\n",
    "https://www.youtube.com/watch?v=XK3eU9egll8&t=3826s"
   ]
  },
  {
   "cell_type": "code",
   "execution_count": 1,
   "id": "8e590304",
   "metadata": {},
   "outputs": [
    {
     "data": {
      "text/plain": [
       "'4.8.1'"
      ]
     },
     "execution_count": 1,
     "metadata": {},
     "output_type": "execute_result"
    }
   ],
   "source": [
    "import cv2\n",
    "cv2.__version__"
   ]
  },
  {
   "cell_type": "markdown",
   "id": "ca5bb504",
   "metadata": {},
   "source": [
    "### 이미지 출력"
   ]
  },
  {
   "cell_type": "code",
   "execution_count": 6,
   "id": "0aab2757",
   "metadata": {},
   "outputs": [
    {
     "name": "stdout",
     "output_type": "stream",
     "text": [
      "50\n"
     ]
    },
    {
     "data": {
      "text/plain": [
       "-1"
      ]
     },
     "execution_count": 6,
     "metadata": {},
     "output_type": "execute_result"
    }
   ],
   "source": [
    "import cv2\n",
    "img = cv2.imread('img.jpg') # 해당 경로의 파일 읽어오기\n",
    "cv2.imshow('img', img) # img 라는 이름의 창의 img를 표시\n",
    "key = cv2.waitKey(5000) # 지정된 시간(ms) 동안 사용자 키 입력 대기\n",
    "cv2.destroyAllWindows() # 모든 창 닫기\n",
    "\n",
    "print (key) # 키 누르면 그 키의 아스키코드 출력\n",
    "\n",
    "# mac에서 opencv 팝업창 안닫힐때 뒤에 항상 붙여주기\n",
    "cv2.destroyAllWindows()\n",
    "cv2.waitKey(1)\n",
    "cv2.waitKey(1)\n",
    "cv2.waitKey(1)\n",
    "cv2.waitKey(1)"
   ]
  },
  {
   "cell_type": "markdown",
   "id": "266e9890",
   "metadata": {},
   "source": [
    "### 이미지 읽기 옵션\n",
    "1) cv2.IMREAD_COLOR : 컬러 이미지 가져오기, 투명 영역 무시 (기본값)\n",
    "2) cv2.IMREAD_GRAYSCALE : 흑백 이미지\n",
    "3) cv2.IMREAD_UNCHANGED : 투명 영역까지 포함"
   ]
  },
  {
   "cell_type": "code",
   "execution_count": 2,
   "id": "00612ada",
   "metadata": {},
   "outputs": [
    {
     "data": {
      "text/plain": [
       "-1"
      ]
     },
     "execution_count": 2,
     "metadata": {},
     "output_type": "execute_result"
    }
   ],
   "source": [
    "import cv2\n",
    "img1 = cv2.imread('img.jpg', cv2.IMREAD_COLOR) # 컬러\n",
    "img2 = cv2.imread('img.jpg', cv2.IMREAD_GRAYSCALE) # 흑백 \n",
    "img3 = cv2.imread('img.jpg', cv2.IMREAD_UNCHANGED) # png 투명 영역\n",
    "\n",
    "cv2.imshow ('img1', img1)\n",
    "cv2.imshow ('img2', img2)\n",
    "cv2.imshow ('img3', img3)\n",
    "\n",
    "cv2.waitKey(0)\n",
    "cv2.destroyAllWindows()\n",
    "\n",
    "# mac에서 opencv 팝업창 안닫힐때 뒤에 항상 붙여주기\n",
    "cv2.destroyAllWindows()\n",
    "cv2.waitKey(1)\n",
    "cv2.waitKey(1)\n",
    "cv2.waitKey(1)\n",
    "cv2.waitKey(1)"
   ]
  },
  {
   "cell_type": "markdown",
   "id": "e98ca617",
   "metadata": {},
   "source": [
    "### shape \n",
    "이미지의 height, width, channel 정보\n",
    "channel : RGB의 수 등 색깔의 수"
   ]
  },
  {
   "cell_type": "code",
   "execution_count": 5,
   "id": "2176f2e4",
   "metadata": {},
   "outputs": [
    {
     "name": "stdout",
     "output_type": "stream",
     "text": [
      "(391, 640, 3)\n"
     ]
    }
   ],
   "source": [
    "import cv2\n",
    "img = cv2.imread('img.jpg') # 이미지 리드\n",
    "print(img.shape) # 이미지의 shape 불러옴"
   ]
  }
 ],
 "metadata": {
  "kernelspec": {
   "display_name": "Python 3 (ipykernel)",
   "language": "python",
   "name": "python3"
  },
  "language_info": {
   "codemirror_mode": {
    "name": "ipython",
    "version": 3
   },
   "file_extension": ".py",
   "mimetype": "text/x-python",
   "name": "python",
   "nbconvert_exporter": "python",
   "pygments_lexer": "ipython3",
   "version": "3.11.4"
  }
 },
 "nbformat": 4,
 "nbformat_minor": 5
}
