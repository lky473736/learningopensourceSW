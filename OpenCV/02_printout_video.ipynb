{
 "cells": [
  {
   "cell_type": "markdown",
   "id": "1e2ef639",
   "metadata": {},
   "source": [
    "### 2. 동영상 출력 (프레임을 가져옴 - 반복문이 필요)"
   ]
  },
  {
   "cell_type": "markdown",
   "id": "1c586c29",
   "metadata": {},
   "source": [
    "### 동영상 파일 출력\n",
    "\n",
    "https://stackoverflow.com/questions/6116564/destroywindow-does-not-close-window-on-mac-using-python-and-opencv"
   ]
  },
  {
   "cell_type": "code",
   "execution_count": 4,
   "id": "08becdb8",
   "metadata": {},
   "outputs": [
    {
     "name": "stdout",
     "output_type": "stream",
     "text": [
      "더 이상 가져올 프레임 없음\n"
     ]
    },
    {
     "data": {
      "text/plain": [
       "-1"
      ]
     },
     "execution_count": 4,
     "metadata": {},
     "output_type": "execute_result"
    }
   ],
   "source": [
    "import cv2\n",
    "\n",
    "cap = cv2.VideoCapture('video.mp4')\n",
    "\n",
    "while cap.isOpened():  # 동영상 파일이 올바로 열렸는가?\n",
    "    ret, frame = cap.read()  # ret : 성공 여부, frame : 동영상으로부터 받아온 프레임\n",
    "\n",
    "    if not ret:\n",
    "        print('더 이상 가져올 프레임 없음')\n",
    "        break\n",
    "\n",
    "    cv2.imshow('video', frame)  # video라는 창에 frame 띄움\n",
    "\n",
    "    if cv2.waitKey(1) == ord('q'):  # waitkey(n) : n으로 속도 조절\n",
    "        print('사용자 입력에 의해 종료')\n",
    "        break\n",
    "        \n",
    "cap.release() # 동영상 파일 닫고 메모리 해제\n",
    "\n",
    "# mac에서 opencv 팝업창 안닫힐때 뒤에 항상 붙여주기\n",
    "cv2.destroyAllWindows()\n",
    "cv2.waitKey(1)\n",
    "cv2.waitKey(1)\n",
    "cv2.waitKey(1)\n",
    "cv2.waitKey(1)"
   ]
  },
  {
   "cell_type": "markdown",
   "id": "ae88c634",
   "metadata": {},
   "source": [
    "### 카메라 출력"
   ]
  },
  {
   "cell_type": "code",
   "execution_count": 3,
   "id": "1befe37a",
   "metadata": {},
   "outputs": [
    {
     "name": "stdout",
     "output_type": "stream",
     "text": [
      "사용자 입력에 의해 종료\n"
     ]
    },
    {
     "data": {
      "text/plain": [
       "-1"
      ]
     },
     "execution_count": 3,
     "metadata": {},
     "output_type": "execute_result"
    }
   ],
   "source": [
    "import cv2\n",
    "cap = cv2.VideoCapture(0) # 0번째 카메라 장치 (Device ID)\n",
    "\n",
    "if not cap.isOpened() : # 여는 걸 실패하면\n",
    "    exit() # 프로그램 종료\n",
    "    \n",
    "while True : \n",
    "    ret, frame = cap.read()  \n",
    "    \n",
    "    if not ret :\n",
    "        break\n",
    "        \n",
    "    cv2.imshow('camera', frame)\n",
    "    \n",
    "    if cv2.waitKey(1) == ord('q'):  # waitkey(n) : n으로 속도 조절\n",
    "        print('사용자 입력에 의해 종료')\n",
    "        break\n",
    "        \n",
    "cap.release() # 동영상 파일 닫고 메모리 해제\n",
    "\n",
    "# mac에서 opencv 팝업창 안닫힐때 뒤에 항상 붙여주기\n",
    "cv2.destroyAllWindows()\n",
    "cv2.waitKey(1)\n",
    "cv2.waitKey(1)\n",
    "cv2.waitKey(1)\n",
    "cv2.waitKey(1)"
   ]
  },
  {
   "cell_type": "code",
   "execution_count": null,
   "id": "9aad45a2",
   "metadata": {},
   "outputs": [],
   "source": []
  },
  {
   "cell_type": "code",
   "execution_count": null,
   "id": "8a8d2062",
   "metadata": {},
   "outputs": [],
   "source": []
  }
 ],
 "metadata": {
  "kernelspec": {
   "display_name": "Python 3 (ipykernel)",
   "language": "python",
   "name": "python3"
  },
  "language_info": {
   "codemirror_mode": {
    "name": "ipython",
    "version": 3
   },
   "file_extension": ".py",
   "mimetype": "text/x-python",
   "name": "python",
   "nbconvert_exporter": "python",
   "pygments_lexer": "ipython3",
   "version": "3.11.4"
  }
 },
 "nbformat": 4,
 "nbformat_minor": 5
}
